{
 "cells": [
  {
   "cell_type": "markdown",
   "metadata": {},
   "source": [
    "## Description of the data\n",
    "Because i will need the data about average income per neighborhood i decided to go with Chicago. Earlier in this cource we had a link to [Chicago webcite](https://data.cityofchicago.org/) with all the neccesary infomation about the city, including:\n",
    "* average income and hardship index per community, available in [.csv file](https://data.cityofchicago.org/api/views/kn9c-c2s2/rows.csv?accessType=DOWNLOAD) \n",
    "* [geojson file](https://data.cityofchicago.org/api/geospatial/cauq-8yn6?method=export&format=GeoJSON) for creating the map and getting the coordinates of communities using the <b>shapely</b> library\n",
    "* other information you can find interesting."
   ]
  },
  {
   "cell_type": "markdown",
   "metadata": {},
   "source": [
    "Another source of data will be [Foursquare API](https://developer.foursquare.com/).\n",
    "Using the <i>search</i> endpoint we will look for most common places instead of recommended ones that are returned by <i>explore</i> endpoint.\n",
    "\n",
    "Also we will be searching by several [categories](https://developer.foursquare.com/docs/resources/categories) to split our request into multiple ones to not overflow our results with only one most common type in this area and to to hit the limit that is returned by the API."
   ]
  },
  {
   "cell_type": "markdown",
   "metadata": {},
   "source": [
    "### Data collection and wrangling process\n",
    "* Load the communities information into dataframe\n",
    "* Get the coordinates of said communities by using available .geojson file\n",
    "* For each community wi will call Foursquare API to collect information about surrounding venues. We will call API several times for each neighborhood for the reasons said before\n",
    "* Get most common venues per each community and look for correlation."
   ]
  }
 ],
 "metadata": {
  "kernelspec": {
   "display_name": "Python 3",
   "language": "python",
   "name": "python3"
  },
  "language_info": {
   "codemirror_mode": {
    "name": "ipython",
    "version": 3
   },
   "file_extension": ".py",
   "mimetype": "text/x-python",
   "name": "python",
   "nbconvert_exporter": "python",
   "pygments_lexer": "ipython3",
   "version": "3.7.3"
  }
 },
 "nbformat": 4,
 "nbformat_minor": 2
}
