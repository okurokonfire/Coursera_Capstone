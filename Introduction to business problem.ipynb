{
 "cells": [
  {
   "cell_type": "markdown",
   "metadata": {},
   "source": [
    "# Introduction\n",
    "\n",
    "No matter where we live we are surrounded by different venues. They take their part in shaping us one way or another. People who live in one area might have different sets of values, maybe the availability of different services and place around them has its toll.\n",
    "\n",
    "\n",
    "However i'll try to look into to this connection the other way around: is there a correlation between per capita income of families who live in that area and surrounding them venues. Is poor regions have enough services available to them? Are venues in rich neighborhoods greatly different from those in less rich."
   ]
  },
  {
   "cell_type": "markdown",
   "metadata": {},
   "source": [
    "## Business problem\n",
    "The research might be helpful to those who look to open new business in the area, to see which venues are successful in certain areas or where there are a lack of something. However it is not the main objective. The results of this research might be helpful for those who looks into sociologic values of neighborhoods and tries to look into their economy."
   ]
  },
  {
   "cell_type": "markdown",
   "metadata": {},
   "source": [
    "### Questions to solve\n",
    "* does the average income of residents correlate with the quantity and type of venues around them?\n",
    "* if it is the other way around what types of venues attract prosperous people the most?"
   ]
  }
 ],
 "metadata": {
  "kernelspec": {
   "display_name": "Python 3",
   "language": "python",
   "name": "python3"
  },
  "language_info": {
   "codemirror_mode": {
    "name": "ipython",
    "version": 3
   },
   "file_extension": ".py",
   "mimetype": "text/x-python",
   "name": "python",
   "nbconvert_exporter": "python",
   "pygments_lexer": "ipython3",
   "version": "3.7.3"
  }
 },
 "nbformat": 4,
 "nbformat_minor": 2
}
