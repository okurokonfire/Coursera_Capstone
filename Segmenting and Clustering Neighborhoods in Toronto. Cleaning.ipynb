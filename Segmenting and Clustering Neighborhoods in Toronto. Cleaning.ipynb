{
 "cells": [
  {
   "cell_type": "markdown",
   "metadata": {},
   "source": [
    "# Segmenting and Clustering Neighborhoods in Toronto. Cleaning the data"
   ]
  },
  {
   "cell_type": "markdown",
   "metadata": {},
   "source": [
    "We need some modules to be imported"
   ]
  },
  {
   "cell_type": "code",
   "execution_count": 1,
   "metadata": {},
   "outputs": [
    {
     "name": "stdout",
     "output_type": "stream",
     "text": [
      "Requirement already satisfied: bs4 in /home/jupyterlab/conda/envs/python/lib/python3.6/site-packages (0.0.1)\n",
      "Requirement already satisfied: beautifulsoup4 in /home/jupyterlab/conda/envs/python/lib/python3.6/site-packages (from bs4) (4.8.0)\n",
      "Requirement already satisfied: soupsieve>=1.2 in /home/jupyterlab/conda/envs/python/lib/python3.6/site-packages (from beautifulsoup4->bs4) (1.9.4)\n"
     ]
    }
   ],
   "source": [
    "import requests\n",
    "!pip install bs4\n",
    "from bs4 import BeautifulSoup\n",
    "import pandas as pd"
   ]
  },
  {
   "cell_type": "markdown",
   "metadata": {},
   "source": [
    "Then we will get the information from Wikipedia page"
   ]
  },
  {
   "cell_type": "code",
   "execution_count": 2,
   "metadata": {},
   "outputs": [],
   "source": [
    "URL = \"https://en.wikipedia.org/wiki/List_of_postal_codes_of_Canada:_M\"\n",
    "res = requests.get(URL)\n",
    "soup = BeautifulSoup(res.content)\n",
    "dataf = {}\n",
    "boroughs = []"
   ]
  },
  {
   "cell_type": "markdown",
   "metadata": {},
   "source": [
    "then we will clean the data according to the assignment:\n",
    "* Only process the cells that have an assigned borough. Ignore cells with a borough that is Not assigned.\n",
    "* More than one neighborhood can exist in one postal code area. For example, in the table on the Wikipedia page, you will notice that M5A is listed twice and has two neighborhoods: Harbourfront and Regent Park. These two rows will be combined into one row with the neighborhoods separated with a comma.\n",
    "* If a cell has a borough but a Not assigned neighborhood, then the neighborhood will be the same as the borough."
   ]
  },
  {
   "cell_type": "code",
   "execution_count": 3,
   "metadata": {},
   "outputs": [],
   "source": [
    "i = 0\n",
    "for items in soup.find('table', class_='wikitable').find_all('tr')[1::1]:\n",
    "    data = items.find_all(['th','td'])\n",
    "    postcode = str(data[0])[4:-5]\n",
    "    borough = str(data[1])[4:-5]\n",
    "    neighborhood = str(data[2])[4:-5].replace('\\n','')\n",
    "    #only if borough is assigned\n",
    "    if borough != 'Not assigned':\n",
    "        #if a cell has a borough but a Not assigned neighborhood, then the neighborhood will be the same as the borough\n",
    "        if neighborhood == 'Not assigned':\n",
    "            neighborhood = borough\n",
    "        #cleaning from html tags\n",
    "        if '<a ' in borough:\n",
    "            borough = borough[borough.find('>')+1:borough.find('<',borough.find('>'))]\n",
    "        if '<a ' in neighborhood:\n",
    "            neighborhood = neighborhood[neighborhood.find('>')+1:neighborhood.find('<',neighborhood.find('>'))]\n",
    "        \n",
    "        if [postcode,borough] not in boroughs:\n",
    "            \n",
    "            dataf[i] = [postcode,borough,neighborhood]\n",
    "            boroughs.append([postcode,borough])\n",
    "            i += 1\n",
    "        # several neighborhoods in one borough on one postcode\n",
    "        else:\n",
    "            \n",
    "            for data in dataf.values():\n",
    "                if data[0] == postcode and data[1] == borough:\n",
    "                    data[2] = data[2] + f', {neighborhood}'\n"
   ]
  },
  {
   "cell_type": "markdown",
   "metadata": {},
   "source": [
    "We may glimpse on what we got"
   ]
  },
  {
   "cell_type": "code",
   "execution_count": 4,
   "metadata": {},
   "outputs": [
    {
     "data": {
      "text/plain": [
       "{0: ['M3A', 'North York', 'Parkwoods'],\n",
       " 1: ['M4A', 'North York', 'Victoria Village'],\n",
       " 2: ['M5A', 'Downtown Toronto', 'Harbourfront, Regent Park'],\n",
       " 3: ['M6A', 'North York', 'Lawrence Heights, Lawrence Manor'],\n",
       " 4: ['M7A', \"Queen's Park\", \"Queen's Park\"],\n",
       " 5: ['M9A', 'Etobicoke', 'Islington Avenue'],\n",
       " 6: ['M1B', 'Scarborough', 'Rouge, Malvern'],\n",
       " 7: ['M3B', 'North York', 'Don Mills North'],\n",
       " 8: ['M4B', 'East York', 'Woodbine Gardens, Parkview Hill'],\n",
       " 9: ['M5B', 'Downtown Toronto', 'Ryerson, Garden District'],\n",
       " 10: ['M6B', 'North York', 'Glencairn'],\n",
       " 11: ['M9B',\n",
       "  'Etobicoke',\n",
       "  'Cloverdale, Islington, Martin Grove, Princess Gardens, West Deane Park'],\n",
       " 12: ['M1C', 'Scarborough', 'Highland Creek, Rouge Hill, Port Union'],\n",
       " 13: ['M3C', 'North York', 'Flemingdon Park, Don Mills South'],\n",
       " 14: ['M4C', 'East York', 'Woodbine Heights'],\n",
       " 15: ['M5C', 'Downtown Toronto', 'St. James Town'],\n",
       " 16: ['M6C', 'York', 'Humewood-Cedarvale'],\n",
       " 17: ['M9C',\n",
       "  'Etobicoke',\n",
       "  'Bloordale Gardens, Eringate, Markland Wood, Old Burnhamthorpe'],\n",
       " 18: ['M1E', 'Scarborough', 'Guildwood, Morningside, West Hill'],\n",
       " 19: ['M4E', 'East Toronto', 'The Beaches'],\n",
       " 20: ['M5E', 'Downtown Toronto', 'Berczy Park'],\n",
       " 21: ['M6E', 'York', 'Caledonia-Fairbanks'],\n",
       " 22: ['M1G', 'Scarborough', 'Woburn'],\n",
       " 23: ['M4G', 'East York', 'Leaside'],\n",
       " 24: ['M5G', 'Downtown Toronto', 'Central Bay Street'],\n",
       " 25: ['M6G', 'Downtown Toronto', 'Christie'],\n",
       " 26: ['M1H', 'Scarborough', 'Cedarbrae'],\n",
       " 27: ['M2H', 'North York', 'Hillcrest Village'],\n",
       " 28: ['M3H', 'North York', 'Bathurst Manor, Downsview North, Wilson Heights'],\n",
       " 29: ['M4H', 'East York', 'Thorncliffe Park'],\n",
       " 30: ['M5H', 'Downtown Toronto', 'Adelaide, King, Richmond'],\n",
       " 31: ['M6H', 'West Toronto', 'Dovercourt Village, Dufferin'],\n",
       " 32: ['M1J', 'Scarborough', 'Scarborough Village'],\n",
       " 33: ['M2J', 'North York', 'Fairview, Henry Farm, Oriole'],\n",
       " 34: ['M3J', 'North York', 'Northwood Park, York University'],\n",
       " 35: ['M4J', 'East York', 'East Toronto'],\n",
       " 36: ['M5J',\n",
       "  'Downtown Toronto',\n",
       "  'Harbourfront East, Toronto Islands, Union Station'],\n",
       " 37: ['M6J', 'West Toronto', 'Little Portugal, Trinity'],\n",
       " 38: ['M1K', 'Scarborough', 'East Birchmount Park, Ionview, Kennedy Park'],\n",
       " 39: ['M2K', 'North York', 'Bayview Village'],\n",
       " 40: ['M3K', 'North York', 'CFB Toronto, Downsview East'],\n",
       " 41: ['M4K', 'East Toronto', 'The Danforth West, Riverdale'],\n",
       " 42: ['M5K', 'Downtown Toronto', 'Design Exchange, Toronto Dominion Centre'],\n",
       " 43: ['M6K', 'West Toronto', 'Brockton, Exhibition Place, Parkdale Village'],\n",
       " 44: ['M1L', 'Scarborough', 'Clairlea, Golden Mile, Oakridge'],\n",
       " 45: ['M2L', 'North York', 'Silver Hills, York Mills'],\n",
       " 46: ['M3L', 'North York', 'Downsview West'],\n",
       " 47: ['M4L', 'East Toronto', 'The Beaches West, India Bazaar'],\n",
       " 48: ['M5L', 'Downtown Toronto', 'Commerce Court, Victoria Hotel'],\n",
       " 49: ['M6L', 'North York', 'Downsview, North Park, Upwood Park'],\n",
       " 50: ['M9L', 'North York', 'Humber Summit'],\n",
       " 51: ['M1M', 'Scarborough', 'Cliffcrest, Cliffside, Scarborough Village West'],\n",
       " 52: ['M2M', 'North York', 'Newtonbrook, Willowdale'],\n",
       " 53: ['M3M', 'North York', 'Downsview Central'],\n",
       " 54: ['M4M', 'East Toronto', 'Studio District'],\n",
       " 55: ['M5M', 'North York', 'Bedford Park, Lawrence Manor East'],\n",
       " 56: ['M6M', 'York', 'Del Ray, Keelesdale, Mount Dennis, Silverthorn'],\n",
       " 57: ['M9M', 'North York', 'Emery, Humberlea'],\n",
       " 58: ['M1N', 'Scarborough', 'Birch Cliff, Cliffside West'],\n",
       " 59: ['M2N', 'North York', 'Willowdale South'],\n",
       " 60: ['M3N', 'North York', 'Downsview Northwest'],\n",
       " 61: ['M4N', 'Central Toronto', 'Lawrence Park'],\n",
       " 62: ['M5N', 'Central Toronto', 'Roselawn'],\n",
       " 63: ['M6N', 'York', 'The Junction North, Runnymede'],\n",
       " 64: ['M9N', 'York', 'Weston'],\n",
       " 65: ['M1P',\n",
       "  'Scarborough',\n",
       "  'Dorset Park, Scarborough Town Centre, Wexford Heights'],\n",
       " 66: ['M2P', 'North York', 'York Mills West'],\n",
       " 67: ['M4P', 'Central Toronto', 'Davisville North'],\n",
       " 68: ['M5P', 'Central Toronto', 'Forest Hill North, Forest Hill West'],\n",
       " 69: ['M6P', 'West Toronto', 'High Park, The Junction South'],\n",
       " 70: ['M9P', 'Etobicoke', 'Westmount'],\n",
       " 71: ['M1R', 'Scarborough', 'Maryvale, Wexford'],\n",
       " 72: ['M2R', 'North York', 'Willowdale West'],\n",
       " 73: ['M4R', 'Central Toronto', 'North Toronto West'],\n",
       " 74: ['M5R', 'Central Toronto', 'The Annex, North Midtown, Yorkville'],\n",
       " 75: ['M6R', 'West Toronto', 'Parkdale, Roncesvalles'],\n",
       " 76: ['M7R', 'Mississauga', 'Canada Post Gateway Processing Centre'],\n",
       " 77: ['M9R',\n",
       "  'Etobicoke',\n",
       "  'Kingsview Village, Martin Grove Gardens, Richview Gardens, St. Phillips'],\n",
       " 78: ['M1S', 'Scarborough', 'Agincourt'],\n",
       " 79: ['M4S', 'Central Toronto', 'Davisville'],\n",
       " 80: ['M5S', 'Downtown Toronto', 'Harbord, University of Toronto'],\n",
       " 81: ['M6S', 'West Toronto', 'Runnymede, Swansea'],\n",
       " 82: ['M1T', 'Scarborough', \"Clarks Corners, Sullivan, Tam O'Shanter\"],\n",
       " 83: ['M4T', 'Central Toronto', 'Moore Park, Summerhill East'],\n",
       " 84: ['M5T', 'Downtown Toronto', 'Chinatown, Grange Park, Kensington Market'],\n",
       " 85: ['M1V',\n",
       "  'Scarborough',\n",
       "  \"Agincourt North, L'Amoreaux East, Milliken, Steeles East\"],\n",
       " 86: ['M4V',\n",
       "  'Central Toronto',\n",
       "  'Deer Park, Forest Hill SE, Rathnelly, South Hill, Summerhill West'],\n",
       " 87: ['M5V',\n",
       "  'Downtown Toronto',\n",
       "  'CN Tower, Bathurst Quay, Island airport, Harbourfront West, King and Spadina, Railway Lands, South Niagara'],\n",
       " 88: ['M8V', 'Etobicoke', 'Humber Bay Shores, Mimico South, New Toronto'],\n",
       " 89: ['M9V',\n",
       "  'Etobicoke',\n",
       "  'Albion Gardens, Beaumond Heights, Humbergate, Jamestown, Mount Olive, Silverstone, South Steeles, Thistletown'],\n",
       " 90: ['M1W', 'Scarborough', \"L'Amoreaux West\"],\n",
       " 91: ['M4W', 'Downtown Toronto', 'Rosedale'],\n",
       " 92: ['M5W', 'Downtown Toronto', 'Stn A PO Boxes 25 The Esplanade'],\n",
       " 93: ['M8W', 'Etobicoke', 'Alderwood, Long Branch'],\n",
       " 94: ['M9W', 'Etobicoke', 'Northwest'],\n",
       " 95: ['M1X', 'Scarborough', 'Upper Rouge'],\n",
       " 96: ['M4X', 'Downtown Toronto', 'Cabbagetown, St. James Town'],\n",
       " 97: ['M5X', 'Downtown Toronto', 'First Canadian Place, Underground city'],\n",
       " 98: ['M8X', 'Etobicoke', 'The Kingsway, Montgomery Road, Old Mill North'],\n",
       " 99: ['M4Y', 'Downtown Toronto', 'Church and Wellesley'],\n",
       " 100: ['M7Y',\n",
       "  'East Toronto',\n",
       "  'Business Reply Mail Processing Centre 969 Eastern'],\n",
       " 101: ['M8Y',\n",
       "  'Etobicoke',\n",
       "  \"Humber Bay, King's Mill Park, Kingsway Park South East, Mimico NE, Old Mill South, The Queensway East, Royal York South East, Sunnylea\"],\n",
       " 102: ['M8Z',\n",
       "  'Etobicoke',\n",
       "  'Kingsway Park South West, Mimico NW, The Queensway West, Royal York South West, South of Bloor']}"
      ]
     },
     "execution_count": 4,
     "metadata": {},
     "output_type": "execute_result"
    }
   ],
   "source": [
    "#this will be a dataframe\n",
    "dataf    "
   ]
  },
  {
   "cell_type": "markdown",
   "metadata": {},
   "source": [
    "In dictionary dataf rows and columns are swapped compared to what we should achieve after importing it to the <b>pandas</b> dataframe, so we will <i>transpose</i> the dataframe and assign column names."
   ]
  },
  {
   "cell_type": "code",
   "execution_count": 5,
   "metadata": {},
   "outputs": [
    {
     "data": {
      "text/html": [
       "<div>\n",
       "<style scoped>\n",
       "    .dataframe tbody tr th:only-of-type {\n",
       "        vertical-align: middle;\n",
       "    }\n",
       "\n",
       "    .dataframe tbody tr th {\n",
       "        vertical-align: top;\n",
       "    }\n",
       "\n",
       "    .dataframe thead th {\n",
       "        text-align: right;\n",
       "    }\n",
       "</style>\n",
       "<table border=\"1\" class=\"dataframe\">\n",
       "  <thead>\n",
       "    <tr style=\"text-align: right;\">\n",
       "      <th></th>\n",
       "      <th>PostalCode</th>\n",
       "      <th>Borough</th>\n",
       "      <th>Neighborhood</th>\n",
       "    </tr>\n",
       "  </thead>\n",
       "  <tbody>\n",
       "    <tr>\n",
       "      <td>0</td>\n",
       "      <td>M3A</td>\n",
       "      <td>North York</td>\n",
       "      <td>Parkwoods</td>\n",
       "    </tr>\n",
       "    <tr>\n",
       "      <td>1</td>\n",
       "      <td>M4A</td>\n",
       "      <td>North York</td>\n",
       "      <td>Victoria Village</td>\n",
       "    </tr>\n",
       "    <tr>\n",
       "      <td>2</td>\n",
       "      <td>M5A</td>\n",
       "      <td>Downtown Toronto</td>\n",
       "      <td>Harbourfront, Regent Park</td>\n",
       "    </tr>\n",
       "    <tr>\n",
       "      <td>3</td>\n",
       "      <td>M6A</td>\n",
       "      <td>North York</td>\n",
       "      <td>Lawrence Heights, Lawrence Manor</td>\n",
       "    </tr>\n",
       "    <tr>\n",
       "      <td>4</td>\n",
       "      <td>M7A</td>\n",
       "      <td>Queen's Park</td>\n",
       "      <td>Queen's Park</td>\n",
       "    </tr>\n",
       "  </tbody>\n",
       "</table>\n",
       "</div>"
      ],
      "text/plain": [
       "  PostalCode           Borough                      Neighborhood\n",
       "0        M3A        North York                         Parkwoods\n",
       "1        M4A        North York                  Victoria Village\n",
       "2        M5A  Downtown Toronto         Harbourfront, Regent Park\n",
       "3        M6A        North York  Lawrence Heights, Lawrence Manor\n",
       "4        M7A      Queen's Park                      Queen's Park"
      ]
     },
     "execution_count": 5,
     "metadata": {},
     "output_type": "execute_result"
    }
   ],
   "source": [
    "df=pd.DataFrame(dataf).transpose()\n",
    "#df = df.transpose()\n",
    "df.columns = ['PostalCode','Borough','Neighborhood']\n",
    "df.head()"
   ]
  },
  {
   "cell_type": "code",
   "execution_count": 6,
   "metadata": {},
   "outputs": [
    {
     "data": {
      "text/plain": [
       "(103, 3)"
      ]
     },
     "execution_count": 6,
     "metadata": {},
     "output_type": "execute_result"
    }
   ],
   "source": [
    "df.shape"
   ]
  }
 ],
 "metadata": {
  "kernelspec": {
   "display_name": "Python",
   "language": "python",
   "name": "conda-env-python-py"
  },
  "language_info": {
   "codemirror_mode": {
    "name": "ipython",
    "version": 3
   },
   "file_extension": ".py",
   "mimetype": "text/x-python",
   "name": "python",
   "nbconvert_exporter": "python",
   "pygments_lexer": "ipython3",
   "version": "3.6.7"
  }
 },
 "nbformat": 4,
 "nbformat_minor": 4
}
